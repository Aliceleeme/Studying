{
 "cells": [
  {
   "cell_type": "markdown",
   "metadata": {},
   "source": [
    "R에서 BigQuery 사용하기\n",
    "============\n",
    "\n",
    "\n",
    "BigQuery는 SQL과 같은 구문을 사용하여 매우 큰 사이즈의 데이터 세트를 조회하고 조작할 수 있습니다. BigQuery의 쿼리는 Google에서 BigQuery 스토리지로 저장된 데이터 또는 CSV, JSON, GoogleSheet 형식으로 저장된 외부 데이터 세트를 실행합니다. BigQuery에 대한 더 많은 정보을 확인하려면 개발자 설명서를 확인해주세요.\n",
    "\n",
    "이 글에서는 R을 활용하여 공용 바이너리 데이터 세트에 연결하고, 데이터를 분석하는 경우를 소개하고자 합니다. "
   ]
  },
  {
   "cell_type": "markdown",
   "metadata": {},
   "source": [
    "우선, R의 오픈소스 라이브러리인 BigQuery를 설치하기 위해 아래의 명령어를 실행합니다"
   ]
  },
  {
   "cell_type": "code",
   "execution_count": 1,
   "metadata": {},
   "outputs": [
    {
     "name": "stderr",
     "output_type": "stream",
     "text": [
      "Installing package into 'C:/Users/welcome3/Documents/R/win-library/3.4'\n",
      "(as 'lib' is unspecified)\n"
     ]
    },
    {
     "name": "stdout",
     "output_type": "stream",
     "text": [
      "package 'bigrquery' successfully unpacked and MD5 sums checked\n",
      "\n",
      "The downloaded binary packages are in\n",
      "\tC:\\Users\\welcome3\\AppData\\Local\\Temp\\RtmpieBYLF\\downloaded_packages\n"
     ]
    }
   ],
   "source": [
    "install.packages(\"bigrquery\")"
   ]
  },
  {
   "cell_type": "markdown",
   "metadata": {},
   "source": [
    "우리는 이 글에서 라이브러리 개발 버전에만 포함된 useLegacySql를 활용할 예정이므로, 아래의 명령어를 활용하여 개발 버전을 별도로 설치합니다"
   ]
  },
  {
   "cell_type": "code",
   "execution_count": 4,
   "metadata": {
    "scrolled": true
   },
   "outputs": [
    {
     "name": "stderr",
     "output_type": "stream",
     "text": [
      "Installing package into 'C:/Users/welcome3/Documents/R/win-library/3.4'\n",
      "(as 'lib' is unspecified)\n"
     ]
    },
    {
     "name": "stdout",
     "output_type": "stream",
     "text": [
      "package 'devtools' successfully unpacked and MD5 sums checked\n",
      "\n",
      "The downloaded binary packages are in\n",
      "\tC:\\Users\\welcome3\\AppData\\Local\\Temp\\RtmpieBYLF\\downloaded_packages\n"
     ]
    },
    {
     "name": "stderr",
     "output_type": "stream",
     "text": [
      "Downloading GitHub repo rstats-db/bigrquery@master\n",
      "from URL https://api.github.com/repos/rstats-db/bigrquery/zipball/master\n",
      "Installing bigrquery\n",
      "\"C:/Users/welcome3/Anaconda3/lib/R/bin/x64/R\" --no-site-file --no-environ  \\\n",
      "  --no-save --no-restore --quiet CMD INSTALL  \\\n",
      "  \"C:/Users/welcome3/AppData/Local/Temp/RtmpieBYLF/devtools13cc58e4177/r-dbi-bigrquery-e706353\"  \\\n",
      "  --library=\"C:/Users/welcome3/Documents/R/win-library/3.4\" --install-tests \n",
      "\n"
     ]
    }
   ],
   "source": [
    "#Rtools 설치 - bigquery devtools 통해 설치하려면 필수: https://cran.r-project.org/bin/windows/Rtools/\n",
    "\n",
    "#개발자 도구 설치 위해 필요한 devtools 설치\n",
    "#install.packages('devtools') \n",
    "#devtools::install_github(\"rstats-db/bigrquery\")"
   ]
  },
  {
   "cell_type": "markdown",
   "metadata": {},
   "source": [
    "또한 클라우드 플랫폼 프로젝트와 결제 가능한 수단을 설정하고, BigQuery 설명서에서 언급하는대로 BigQuery API를 사용 가능하도록 설정합니다. 이 과정을 위해 Google Cloud Console에서 생성한 프로젝트 ID를 기억해둬야 합니다. "
   ]
  },
  {
   "cell_type": "markdown",
   "metadata": {},
   "source": [
    "Basic example using the GitHub public dataset\n",
    "------------------------------------------------------"
   ]
  },
  {
   "cell_type": "markdown",
   "metadata": {},
   "source": [
    "Basic example using the GitHub public dataset\n",
    "Let's start with a simple example using the public dataset for GitHub.\n",
    "\n",
    "The pattern for performing a query is:\n",
    "\n",
    "1. Import the library.\n",
    "2. Specify a project ID from the Google Cloud Console.\n",
    "3. Form your query string.\n",
    "4. Call query_exec with your project ID and query string.\n",
    "\n",
    "Github의 공개 데이터를 사용하는 기본 예시\n",
    "------------------------------------------\n",
    "\n",
    "쿼리를 돌리는 패턴은 다음과 같습니다.\n",
    "\n",
    "1. 라이브러리를 불러옴\n",
    "2. GoogleCloudConsole에서 프로젝트 ID를 지정\n",
    "3. 쿼리 문자열을 작성 \n",
    "4. 프로젝트 ID 및 쿼리 문자열이 있는 query_exe를 불러옴"
   ]
  },
  {
   "cell_type": "code",
   "execution_count": 5,
   "metadata": {
    "scrolled": true
   },
   "outputs": [
    {
     "ename": "ERROR",
     "evalue": "Error in query_exec(sql, project = project, useLegacySql = FALSE): 함수 \"query_exec\"를 찾을 수 없습니다\n",
     "output_type": "error",
     "traceback": [
      "Error in query_exec(sql, project = project, useLegacySql = FALSE): 함수 \"query_exec\"를 찾을 수 없습니다\nTraceback:\n"
     ]
    }
   ],
   "source": [
    "library(bigrquery)\n",
    "\n",
    "# 구글 빅쿼리의 project id를 \"\"에 넣어서 project라는 이름으로 지정 \n",
    "project <- \"your-project-id\" # put your project ID here\n",
    "\n",
    "# 샘플 쿼리(SQL 쿼리문으로 작성)\n",
    "# select copies of files with content containing \"TODO\"\n",
    "sql <- \"SELECT SUM(copies)\n",
    "FROM `bigquery-public-data.github_repos.sample_contents`\n",
    "WHERE NOT binary AND content LIKE '%TODO%'\"\n",
    "# 내가 쿼리를 몰라서 명령어가 돌지 않음 FAIL \n",
    "# LEGACY SQL말고 STANDARD SQL로 돌리는게 모두에게 편할 것 같은 느낌 \n",
    "\n",
    "# Execute the query and store the result\n",
    "todo_copies <- query_exec(sql, project = project, useLegacySql = FALSE)"
   ]
  },
  {
   "cell_type": "markdown",
   "metadata": {},
   "source": [
    "이 query_exec 명령어를 실행하면 인터넷 브라우저에서 구글 계정으로 로그인하여 bigquery의 권한 승인 여부를 묻는 화면이 뜨게 됩니다. 해당 절차를 진행하여 빅쿼리 사용 여부를 승인하면 됩니다.\n",
    "\n",
    "레퍼런스: http://thinktostart.com/using-google-bigquery-with-r/\n"
   ]
  },
  {
   "cell_type": "code",
   "execution_count": null,
   "metadata": {},
   "outputs": [],
   "source": []
  }
 ],
 "metadata": {
  "kernelspec": {
   "display_name": "R",
   "language": "R",
   "name": "ir"
  },
  "language_info": {
   "codemirror_mode": "r",
   "file_extension": ".r",
   "mimetype": "text/x-r-source",
   "name": "R",
   "pygments_lexer": "r",
   "version": "3.4.3"
  }
 },
 "nbformat": 4,
 "nbformat_minor": 2
}
